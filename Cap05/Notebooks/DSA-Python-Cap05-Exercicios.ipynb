{
 "cells": [
  {
   "cell_type": "markdown",
   "metadata": {},
   "source": [
    "# <font color='blue'>Data Science Academy - Python Fundamentos - Capítulo 5</font>\n",
    "\n",
    "## Download: http://github.com/dsacademybr"
   ]
  },
  {
   "cell_type": "markdown",
   "metadata": {},
   "source": [
    "## Exercícios"
   ]
  },
  {
   "cell_type": "code",
   "execution_count": 1,
   "metadata": {
    "collapsed": true
   },
   "outputs": [],
   "source": [
    "# Exercício 1 - Crie um objeto a partir da classe abaixo, chamado roc1, passando 2 parâmetros e depois faça uma chamada\n",
    "# aos atributos e métodos\n",
    "from math import sqrt\n",
    "\n",
    "class Rocket():\n",
    "     \n",
    "    def __init__(self, x=0, y=0):\n",
    "        self.x = x\n",
    "        self.y = y\n",
    "        \n",
    "    def move_rocket(self, x_increment=0, y_increment=1):\n",
    "        self.x += x_increment\n",
    "        self.y += y_increment\n",
    "        \n",
    "    def print_rocket(self):\n",
    "        print(self.x, self.y)\n",
    "        "
   ]
  },
  {
   "cell_type": "code",
   "execution_count": 3,
   "metadata": {},
   "outputs": [
    {
     "name": "stdout",
     "output_type": "stream",
     "text": [
      "10 20\n",
      "10 21\n"
     ]
    }
   ],
   "source": [
    "foguete = Rocket(x = 10, y = 20)\n",
    "foguete.print_rocket()\n",
    "\n",
    "foguete.move_rocket()\n",
    "foguete.print_rocket()"
   ]
  },
  {
   "cell_type": "code",
   "execution_count": 6,
   "metadata": {
    "collapsed": true
   },
   "outputs": [],
   "source": [
    "# Exercício 2 - Crie uma classe chamada Pessoa() com os atributos: nome, cidade, telefone e e-mail. Use pelo menos 2\n",
    "# métodos especiais na sua classe. Crie um objeto da sua classe e faça uma chamada a pelo menos um dos seus métodos\n",
    "# especiais.\n",
    "class Pessoa():\n",
    "    \n",
    "    def __init__(self, nome = \"Fulano\", cidade = \"Lugar\", email = \"email@email.com\", telefone = 0):\n",
    "        self.setNome(nome)\n",
    "        self.setCidade(cidade)\n",
    "        self.setEmail(email)\n",
    "        self.setTelefone(telefone)\n",
    "    \n",
    "    def __str__(self):\n",
    "        return \"Nome: %s\\n\" \\\n",
    "        \"Cidade: %s\\n\" \\\n",
    "        \"Telefone: %d\\n\" \\\n",
    "        \"Email: %s\" \\\n",
    "        %(self.getNome(), self.getCidade(), self.getTelefone(), self.getEmail())\n",
    "    \n",
    "    def getNome(self):\n",
    "        return self.nome\n",
    "    \n",
    "    def getCidade(self):\n",
    "        return self.cidade\n",
    "    \n",
    "    def getEmail(self):\n",
    "        return self.email\n",
    "    \n",
    "    def getTelefone(self):\n",
    "        return self.telefone\n",
    "    \n",
    "    def setNome(self, nome):\n",
    "        self.nome = nome\n",
    "    \n",
    "    def setCidade(self, cidade):\n",
    "        self.cidade = cidade\n",
    "        \n",
    "    def setEmail(self, email):\n",
    "        self.email = email\n",
    "        \n",
    "    def setTelefone(self, telefone):\n",
    "        self.telefone = telefone"
   ]
  },
  {
   "cell_type": "code",
   "execution_count": 9,
   "metadata": {},
   "outputs": [
    {
     "name": "stdout",
     "output_type": "stream",
     "text": [
      "Nome: Fulano\n",
      "Cidade: Lugar\n",
      "Telefone: 0\n",
      "Email: email@email.com\n",
      "\n",
      "Nome: Beltrano\n",
      "Cidade: Outro Lugar\n",
      "Telefone: 1\n",
      "Email: outroemail@email.com\n"
     ]
    }
   ],
   "source": [
    "fulano = Pessoa()\n",
    "print(fulano)\n",
    "\n",
    "print()\n",
    "\n",
    "beltrano = Pessoa(nome = \"Beltrano\", cidade = \"Outro Lugar\", email = \"outroemail@email.com\", telefone = 1)\n",
    "print(beltrano)"
   ]
  },
  {
   "cell_type": "code",
   "execution_count": 12,
   "metadata": {
    "collapsed": true
   },
   "outputs": [],
   "source": [
    "# Exercício 3 - Crie a classe Smartphone com 2 atributos, tamanho e interface e crie a classe MP3Player com os \n",
    "# atributos capacidade. A classe MP3player deve herdar os atributos da classe Smartphone.\n",
    "\n",
    "class Smartphone():\n",
    "    \n",
    "    def __init__(self, tamanho = 10, interface = \"Android 6.0\"):\n",
    "        self.setTamanho(tamanho)\n",
    "        self.setInterface(interface)\n",
    "    \n",
    "    def __str__(self):\n",
    "        return \"Tamanho: %d\\n\" \\\n",
    "        \"Interface: %s\" \\\n",
    "        %(self.getTamanho(), self.getInterface())\n",
    "    \n",
    "    def getTamanho(self):\n",
    "        return self.tamanho\n",
    "    \n",
    "    def getInterface(self):\n",
    "        return self.interface\n",
    "    \n",
    "    def setTamanho(self, tamanho):\n",
    "        self.tamanho = tamanho\n",
    "    \n",
    "    def setInterface(self, interface):\n",
    "        self.interface = interface"
   ]
  },
  {
   "cell_type": "code",
   "execution_count": 13,
   "metadata": {},
   "outputs": [],
   "source": [
    "class MP3player(Smartphone):\n",
    "    \n",
    "    def __init__(self, capacidade = 1024):\n",
    "        Smartphone.__init__(self)\n",
    "        self.setCapacidade(capacidade)\n",
    "        \n",
    "    def __str__(self):\n",
    "        return \"Tamanho: %d\\n\" \\\n",
    "        \"Interface: %s\\n\" \\\n",
    "        \"Capacidade: %d\" \\\n",
    "        %(self.getTamanho(), self.getInterface(), self.getCapacidade())\n",
    "        \n",
    "    def getCapacidade(self):\n",
    "        return self.capacidade\n",
    "    \n",
    "    def setCapacidade(self, capacidade):\n",
    "        self.capacidade = capacidade"
   ]
  },
  {
   "cell_type": "code",
   "execution_count": 14,
   "metadata": {},
   "outputs": [
    {
     "name": "stdout",
     "output_type": "stream",
     "text": [
      "Tamanho: 10\n",
      "Interface: Android 6.0\n",
      "\n",
      "Tamanho: 10\n",
      "Interface: Android 6.0\n",
      "Capacidade: 1024\n"
     ]
    }
   ],
   "source": [
    "celular = Smartphone()\n",
    "print(celular)\n",
    "\n",
    "print()\n",
    "\n",
    "mp3 = MP3player()\n",
    "print(mp3)"
   ]
  },
  {
   "cell_type": "markdown",
   "metadata": {},
   "source": [
    "### FIM"
   ]
  },
  {
   "cell_type": "markdown",
   "metadata": {},
   "source": [
    "### Obrigado - Data Science Academy - <a href=\"http://facebook.com/dsacademybr\">facebook.com/dsacademybr</a>"
   ]
  }
 ],
 "metadata": {
  "kernelspec": {
   "display_name": "Python 3",
   "language": "python",
   "name": "python3"
  },
  "language_info": {
   "codemirror_mode": {
    "name": "ipython",
    "version": 3
   },
   "file_extension": ".py",
   "mimetype": "text/x-python",
   "name": "python",
   "nbconvert_exporter": "python",
   "pygments_lexer": "ipython3",
   "version": "3.6.5"
  }
 },
 "nbformat": 4,
 "nbformat_minor": 2
}
