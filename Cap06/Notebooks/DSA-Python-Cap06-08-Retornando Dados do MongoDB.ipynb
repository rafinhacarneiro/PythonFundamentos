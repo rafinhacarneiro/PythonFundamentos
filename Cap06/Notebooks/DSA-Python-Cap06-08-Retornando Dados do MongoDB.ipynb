{
 "cells": [
  {
   "cell_type": "markdown",
   "metadata": {},
   "source": [
    "# <font color='blue'>Data Science Academy - Python Fundamentos - Capítulo 6</font>\n",
    "\n",
    "## Download: http://github.com/dsacademybr"
   ]
  },
  {
   "cell_type": "markdown",
   "metadata": {},
   "source": [
    "### Retornando Dados no MongoDB com PyMongo"
   ]
  },
  {
   "cell_type": "code",
   "execution_count": 1,
   "metadata": {
    "collapsed": true
   },
   "outputs": [],
   "source": [
    "# Importamos o Módulo PyMongo\n",
    "import pymongo"
   ]
  },
  {
   "cell_type": "code",
   "execution_count": 2,
   "metadata": {
    "collapsed": true
   },
   "outputs": [],
   "source": [
    "# Criando a conexão com o MongoDB (neste caso, conexão padrão)\n",
    "client_con = pymongo.MongoClient()"
   ]
  },
  {
   "cell_type": "code",
   "execution_count": 4,
   "metadata": {},
   "outputs": [
    {
     "data": {
      "text/plain": [
       "['admin', 'cadastrodb', 'config', 'local']"
      ]
     },
     "execution_count": 4,
     "metadata": {},
     "output_type": "execute_result"
    }
   ],
   "source": [
    "# Listando os bancos de dados disponíveis\n",
    "client_con.list_database_names()"
   ]
  },
  {
   "cell_type": "code",
   "execution_count": 5,
   "metadata": {
    "collapsed": true
   },
   "outputs": [],
   "source": [
    "# Definindo o objeto db\n",
    "db = client_con.cadastrodb"
   ]
  },
  {
   "cell_type": "code",
   "execution_count": 6,
   "metadata": {},
   "outputs": [
    {
     "data": {
      "text/plain": [
       "['posts']"
      ]
     },
     "execution_count": 6,
     "metadata": {},
     "output_type": "execute_result"
    }
   ],
   "source": [
    "# Listando as coleções disponíveis\n",
    "db.list_collection_names()"
   ]
  },
  {
   "cell_type": "code",
   "execution_count": 7,
   "metadata": {},
   "outputs": [
    {
     "data": {
      "text/plain": [
       "Collection(Database(MongoClient(host=['localhost:27017'], document_class=dict, tz_aware=False, connect=True), 'cadastrodb'), 'mycollection')"
      ]
     },
     "execution_count": 7,
     "metadata": {},
     "output_type": "execute_result"
    }
   ],
   "source": [
    "# Criando uma coleção\n",
    "db.create_collection(\"mycollection\")"
   ]
  },
  {
   "cell_type": "code",
   "execution_count": 8,
   "metadata": {},
   "outputs": [
    {
     "data": {
      "text/plain": [
       "['mycollection', 'posts']"
      ]
     },
     "execution_count": 8,
     "metadata": {},
     "output_type": "execute_result"
    }
   ],
   "source": [
    "# Listando as coleções disponíveis\n",
    "db.list_collection_names()"
   ]
  },
  {
   "cell_type": "code",
   "execution_count": 9,
   "metadata": {},
   "outputs": [
    {
     "data": {
      "text/plain": [
       "<pymongo.results.InsertOneResult at 0x5160f48>"
      ]
     },
     "execution_count": 9,
     "metadata": {},
     "output_type": "execute_result"
    }
   ],
   "source": [
    "# Inserindo um documento na coleção criada\n",
    "db.mycollection.insert_one({\n",
    "   'titulo': 'MongoDB com Python', \n",
    "   'descricao': 'MongoDB é um Banco de Dados NoSQL',\n",
    "   'by': 'Data Science Academy',\n",
    "   'url': 'http://www.datascienceacademy.com.br',\n",
    "   'tags': ['mongodb', 'database', 'NoSQL'],\n",
    "   'likes': 100\n",
    "})"
   ]
  },
  {
   "cell_type": "code",
   "execution_count": 10,
   "metadata": {},
   "outputs": [
    {
     "data": {
      "text/plain": [
       "{'_id': ObjectId('5b9958ef878ff302ccc3ee80'),\n",
       " 'titulo': 'MongoDB com Python',\n",
       " 'descricao': 'MongoDB é um Banco de Dados NoSQL',\n",
       " 'by': 'Data Science Academy',\n",
       " 'url': 'http://www.datascienceacademy.com.br',\n",
       " 'tags': ['mongodb', 'database', 'NoSQL'],\n",
       " 'likes': 100}"
      ]
     },
     "execution_count": 10,
     "metadata": {},
     "output_type": "execute_result"
    }
   ],
   "source": [
    "# Retornando o documento criado\n",
    "db.mycollection.find_one()"
   ]
  },
  {
   "cell_type": "code",
   "execution_count": 11,
   "metadata": {
    "collapsed": true
   },
   "outputs": [],
   "source": [
    "# Preparando um documento\n",
    "doc1 = {\"Nome\":\"Donald\",\"sobrenome\":\"Trump\",\"twitter\":\"@POTUS\"}"
   ]
  },
  {
   "cell_type": "code",
   "execution_count": 12,
   "metadata": {},
   "outputs": [
    {
     "data": {
      "text/plain": [
       "<pymongo.results.InsertOneResult at 0x51668c8>"
      ]
     },
     "execution_count": 12,
     "metadata": {},
     "output_type": "execute_result"
    }
   ],
   "source": [
    "# Inserindo um documento\n",
    "db.mycollection.insert_one(doc1)"
   ]
  },
  {
   "cell_type": "code",
   "execution_count": 13,
   "metadata": {
    "collapsed": true
   },
   "outputs": [],
   "source": [
    "# Preparando um documento\n",
    "doc2 = {\"Site\":\"http://www.datascienceacademy.com.br\",\n",
    "        \"facebook\":\"facebook.com/dsacademybr\"}"
   ]
  },
  {
   "cell_type": "code",
   "execution_count": 14,
   "metadata": {},
   "outputs": [
    {
     "data": {
      "text/plain": [
       "<pymongo.results.InsertOneResult at 0x5166808>"
      ]
     },
     "execution_count": 14,
     "metadata": {},
     "output_type": "execute_result"
    }
   ],
   "source": [
    "# Inserindo um documento\n",
    "db.mycollection.insert_one(doc2)"
   ]
  },
  {
   "cell_type": "code",
   "execution_count": 15,
   "metadata": {},
   "outputs": [
    {
     "name": "stdout",
     "output_type": "stream",
     "text": [
      "{'_id': ObjectId('5b9958ef878ff302ccc3ee80'), 'titulo': 'MongoDB com Python', 'descricao': 'MongoDB é um Banco de Dados NoSQL', 'by': 'Data Science Academy', 'url': 'http://www.datascienceacademy.com.br', 'tags': ['mongodb', 'database', 'NoSQL'], 'likes': 100}\n",
      "{'_id': ObjectId('5b99598e878ff302ccc3ee81'), 'Nome': 'Donald', 'sobrenome': 'Trump', 'twitter': '@POTUS'}\n",
      "{'_id': ObjectId('5b995991878ff302ccc3ee82'), 'Site': 'http://www.datascienceacademy.com.br', 'facebook': 'facebook.com/dsacademybr'}\n"
     ]
    }
   ],
   "source": [
    "# Retornando os documentos na coleção\n",
    "for rec in db.mycollection.find():\n",
    "    print(rec)"
   ]
  },
  {
   "cell_type": "code",
   "execution_count": 16,
   "metadata": {
    "collapsed": true
   },
   "outputs": [],
   "source": [
    "# Conectando a uma coleção\n",
    "col = db[\"mycollection\"]"
   ]
  },
  {
   "cell_type": "code",
   "execution_count": 17,
   "metadata": {},
   "outputs": [
    {
     "data": {
      "text/plain": [
       "pymongo.collection.Collection"
      ]
     },
     "execution_count": 17,
     "metadata": {},
     "output_type": "execute_result"
    }
   ],
   "source": [
    "type(col)"
   ]
  },
  {
   "cell_type": "code",
   "execution_count": 21,
   "metadata": {},
   "outputs": [
    {
     "data": {
      "text/plain": [
       "3"
      ]
     },
     "execution_count": 21,
     "metadata": {},
     "output_type": "execute_result"
    }
   ],
   "source": [
    "# Contando os documentos em uma coleção\n",
    "col.estimated_document_count()"
   ]
  },
  {
   "cell_type": "code",
   "execution_count": 22,
   "metadata": {
    "collapsed": true
   },
   "outputs": [],
   "source": [
    "# Encontrando um único documento\n",
    "redoc = col.find_one()"
   ]
  },
  {
   "cell_type": "code",
   "execution_count": 23,
   "metadata": {},
   "outputs": [
    {
     "data": {
      "text/plain": [
       "{'_id': ObjectId('5b9958ef878ff302ccc3ee80'),\n",
       " 'titulo': 'MongoDB com Python',\n",
       " 'descricao': 'MongoDB é um Banco de Dados NoSQL',\n",
       " 'by': 'Data Science Academy',\n",
       " 'url': 'http://www.datascienceacademy.com.br',\n",
       " 'tags': ['mongodb', 'database', 'NoSQL'],\n",
       " 'likes': 100}"
      ]
     },
     "execution_count": 23,
     "metadata": {},
     "output_type": "execute_result"
    }
   ],
   "source": [
    "redoc"
   ]
  },
  {
   "cell_type": "markdown",
   "metadata": {},
   "source": [
    "# Fim"
   ]
  },
  {
   "cell_type": "markdown",
   "metadata": {},
   "source": [
    "### Obrigado - Data Science Academy - <a href=\"http://facebook.com/dsacademybr\">facebook.com/dsacademybr</a>"
   ]
  }
 ],
 "metadata": {
  "kernelspec": {
   "display_name": "Python 3",
   "language": "python",
   "name": "python3"
  },
  "language_info": {
   "codemirror_mode": {
    "name": "ipython",
    "version": 3
   },
   "file_extension": ".py",
   "mimetype": "text/x-python",
   "name": "python",
   "nbconvert_exporter": "python",
   "pygments_lexer": "ipython3",
   "version": "3.6.5"
  }
 },
 "nbformat": 4,
 "nbformat_minor": 2
}
